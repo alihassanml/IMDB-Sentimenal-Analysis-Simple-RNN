{
  "nbformat": 4,
  "nbformat_minor": 0,
  "metadata": {
    "colab": {
      "provenance": []
    },
    "kernelspec": {
      "name": "python3",
      "display_name": "Python 3"
    },
    "language_info": {
      "name": "python"
    }
  },
  "cells": [
    {
      "cell_type": "code",
      "execution_count": 5,
      "metadata": {
        "id": "IuBpBlXB42rF"
      },
      "outputs": [],
      "source": [
        "import numpy as np\n",
        "import tensorflow as tf\n",
        "from tensorflow.keras.datasets import imdb\n",
        "from tensorflow.keras.preprocessing import sequence\n",
        "from tensorflow.keras.models import Sequential\n",
        "from tensorflow.keras.layers import Embedding, Dense, Dropout,SimpleRNN"
      ]
    },
    {
      "cell_type": "code",
      "source": [
        "max_feature = 10000 #voc size\n",
        "(X_train,y_train),(X_test,y_test) = imdb.load_data(num_words=max_feature)\n",
        "print(f'X Train Shape: {X_train.shape}')\n",
        "print(f'X Test Shape: {X_test.shape}')\n",
        "print(f'Y Train Shape: {y_train.shape}')\n",
        "print(f'Y Test Shape: {y_test.shape}')"
      ],
      "metadata": {
        "colab": {
          "base_uri": "https://localhost:8080/"
        },
        "id": "CDRVgWDy5bhd",
        "outputId": "f5f06c9d-9a5f-46fb-d334-d65e7273694c"
      },
      "execution_count": 6,
      "outputs": [
        {
          "output_type": "stream",
          "name": "stdout",
          "text": [
            "Downloading data from https://storage.googleapis.com/tensorflow/tf-keras-datasets/imdb.npz\n",
            "\u001b[1m17464789/17464789\u001b[0m \u001b[32m━━━━━━━━━━━━━━━━━━━━\u001b[0m\u001b[37m\u001b[0m \u001b[1m0s\u001b[0m 0us/step\n",
            "X Train Shape: (25000,)\n",
            "X Test Shape: (25000,)\n",
            "Y Train Shape: (25000,)\n",
            "Y Test Shape: (25000,)\n"
          ]
        }
      ]
    },
    {
      "cell_type": "code",
      "source": [],
      "metadata": {
        "id": "G2DTVcdi6UFW"
      },
      "execution_count": null,
      "outputs": []
    }
  ]
}